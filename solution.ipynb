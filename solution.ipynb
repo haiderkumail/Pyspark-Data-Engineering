{
  "cells": [
    {
      "cell_type": "markdown",
      "metadata": {
        "id": "X__QOXauJGs8"
      },
      "source": [
        "Importing the required libraries"
      ]
    },
    {
      "cell_type": "code",
      "execution_count": 3,
      "metadata": {
        "id": "1kALFeVWHq-i"
      },
      "outputs": [
        {
          "ename": "ModuleNotFoundError",
          "evalue": "No module named 'pyspark'",
          "output_type": "error",
          "traceback": [
            "\u001b[1;31m---------------------------------------------------------------------------\u001b[0m",
            "\u001b[1;31mModuleNotFoundError\u001b[0m                       Traceback (most recent call last)",
            "Cell \u001b[1;32mIn[3], line 1\u001b[0m\n\u001b[1;32m----> 1\u001b[0m \u001b[38;5;28;01mfrom\u001b[39;00m \u001b[38;5;21;01mpyspark\u001b[39;00m\u001b[38;5;21;01m.\u001b[39;00m\u001b[38;5;21;01msql\u001b[39;00m \u001b[38;5;28;01mimport\u001b[39;00m SparkSession\n\u001b[0;32m      2\u001b[0m \u001b[38;5;28;01mfrom\u001b[39;00m \u001b[38;5;21;01mpyspark\u001b[39;00m\u001b[38;5;21;01m.\u001b[39;00m\u001b[38;5;21;01msql\u001b[39;00m \u001b[38;5;28;01mimport\u001b[39;00m functions \u001b[38;5;28;01mas\u001b[39;00m F\n\u001b[0;32m      3\u001b[0m \u001b[38;5;28;01mfrom\u001b[39;00m \u001b[38;5;21;01mpyspark\u001b[39;00m\u001b[38;5;21;01m.\u001b[39;00m\u001b[38;5;21;01msql\u001b[39;00m\u001b[38;5;21;01m.\u001b[39;00m\u001b[38;5;21;01mtypes\u001b[39;00m \u001b[38;5;28;01mimport\u001b[39;00m IntegerType, FloatType, TimestampType\n",
            "\u001b[1;31mModuleNotFoundError\u001b[0m: No module named 'pyspark'"
          ]
        }
      ],
      "source": [
        "from pyspark.sql import SparkSession\n",
        "from pyspark.sql import functions as F\n",
        "from pyspark.sql.types import IntegerType, FloatType, TimestampType\n",
        "from pyspark.ml.recommendation import ALS\n",
        "from pyspark.ml.evaluation import RegressionEvaluator\n"
      ]
    },
    {
      "cell_type": "code",
      "execution_count": null,
      "metadata": {
        "id": "UgYx-bxaT7Nd"
      },
      "outputs": [],
      "source": []
    },
    {
      "cell_type": "markdown",
      "metadata": {
        "id": "TP4mbZxCRsIj"
      },
      "source": [
        "So this part is simply the setting up or starting Spark session.\n",
        "create builder object to initialize\n",
        "sparksession.\n",
        "appname sets the name of spark application that is shows on spark UI or logs.\n",
        "master defines were spark runs(like local[*] means runs locally on computer with available cpu all cores).\n",
        "spark sets configurations and \"spark.sql.shuffle.partitions\" defines the number of partitions used by spark when shuffling data for sql or aggregation operations.\n",
        "getorcreate start the spark session if none exists otherwise return the existing one.\n",
        "\n",
        "\n",
        "\n"
      ]
    },
    {
      "cell_type": "code",
      "execution_count": null,
      "metadata": {
        "id": "VbONJt4HJOgG"
      },
      "outputs": [],
      "source": [
        "def create_spark(app_name=\"MovieLensAnalytics\"):\n",
        "  spark = SparkSession.builder\\\n",
        "      .appName(app_name)\\\n",
        "      .master(\"local[*]\")\\\n",
        "      .config(\"spark.sql.shuffle.partitions\",\"4\")\\\n",
        "      .getOrCreate()\n",
        "  return spark\n",
        "spark = create_spark()"
      ]
    },
    {
      "cell_type": "markdown",
      "metadata": {
        "id": "cZoOBr_0WyAd"
      },
      "source": [
        "This section just uses the spark from previous function and then read the rationgs and movies files from data folder and simply for testing showing first five entities of both files.\n",
        "\"inferSchema\" is used to autmatically detects the columns type.\n"
      ]
    },
    {
      "cell_type": "code",
      "execution_count": null,
      "metadata": {
        "colab": {
          "base_uri": "https://localhost:8080/"
        },
        "id": "fvQEY6bOT-h3",
        "outputId": "3e43332c-94db-4b02-8457-2ee1ba8bfd4d"
      },
      "outputs": [
        {
          "name": "stdout",
          "output_type": "stream",
          "text": [
            "+------+-------+------+---------+\n",
            "|userId|movieId|rating|timestamp|\n",
            "+------+-------+------+---------+\n",
            "|     1|      1|   4.0|964982703|\n",
            "|     1|      3|   4.0|964981247|\n",
            "|     1|      6|   4.0|964982224|\n",
            "|     1|     47|   5.0|964983815|\n",
            "|     1|     50|   5.0|964982931|\n",
            "+------+-------+------+---------+\n",
            "only showing top 5 rows\n",
            "\n",
            "+-------+--------------------+--------------------+\n",
            "|movieId|               title|              genres|\n",
            "+-------+--------------------+--------------------+\n",
            "|      1|    Toy Story (1995)|Adventure|Animati...|\n",
            "|      2|      Jumanji (1995)|Adventure|Childre...|\n",
            "|      3|Grumpier Old Men ...|      Comedy|Romance|\n",
            "|      4|Waiting to Exhale...|Comedy|Drama|Romance|\n",
            "|      5|Father of the Bri...|              Comedy|\n",
            "+-------+--------------------+--------------------+\n",
            "only showing top 5 rows\n",
            "\n"
          ]
        }
      ],
      "source": [
        "def load_data(spark, ratings_path,movies_path):\n",
        "  ratings = spark.read.csv(ratings_path, header=True, inferSchema=True)\n",
        "  movies = spark.read.csv(movies_path, header=True, inferSchema=True)\n",
        "  return ratings, movies\n",
        "\n",
        "ratings, movies = load_data(spark, \"data/ratings.csv\", \"data/movies.csv\")\n",
        "ratings.show(5)\n",
        "movies.show(5)"
      ]
    },
    {
      "cell_type": "markdown",
      "metadata": {
        "id": "Jffs9eqti90W"
      },
      "source": [
        "Preprocess the data before using for analysis or machine learning.\n",
        "simply convert the columns datatype and also change the time into human readable format."
      ]
    },
    {
      "cell_type": "code",
      "execution_count": null,
      "metadata": {
        "colab": {
          "base_uri": "https://localhost:8080/"
        },
        "id": "8_7sQ2qAXQNf",
        "outputId": "855830d2-2a8d-487f-ee90-47c1d0c0411d"
      },
      "outputs": [
        {
          "name": "stdout",
          "output_type": "stream",
          "text": [
            "root\n",
            " |-- userId: integer (nullable = true)\n",
            " |-- movieId: integer (nullable = true)\n",
            " |-- rating: float (nullable = true)\n",
            " |-- timestamp: timestamp (nullable = true)\n",
            "\n",
            "+------+-------+------+-------------------+\n",
            "|userId|movieId|rating|          timestamp|\n",
            "+------+-------+------+-------------------+\n",
            "|     1|      1|   4.0|2000-07-30 18:45:03|\n",
            "|     1|      3|   4.0|2000-07-30 18:20:47|\n",
            "|     1|      6|   4.0|2000-07-30 18:37:04|\n",
            "|     1|     47|   5.0|2000-07-30 19:03:35|\n",
            "|     1|     50|   5.0|2000-07-30 18:48:51|\n",
            "+------+-------+------+-------------------+\n",
            "only showing top 5 rows\n",
            "\n"
          ]
        }
      ],
      "source": [
        "def preprocess(ratings,movies):\n",
        "  r=ratings\\\n",
        "    .withColumn(\"userId\", F.col(\"userId\").cast(IntegerType()))\\\n",
        "    .withColumn(\"movieId\", F.col(\"movieId\").cast(IntegerType()))\\\n",
        "    .withColumn(\"rating\", F.col(\"rating\").cast(FloatType()))\\\n",
        "    .withColumn(\"timestamp\", F.from_unixtime(F.col(\"timestamp\")).cast(TimestampType()))\n",
        "\n",
        "  m=movies.withColumn(\"movieId\", F.col(\"movieId\").cast(IntegerType()))\n",
        "  r=r.na.drop(subset=[\"userId\",\"movieId\",\"rating\"])\n",
        "  return r,m\n",
        "\n",
        "ratings,movies=preprocess(ratings,movies)\n",
        "ratings.printSchema()\n",
        "ratings.show(5)"
      ]
    },
    {
      "cell_type": "markdown",
      "metadata": {
        "id": "OBGYlCPPyTTY"
      },
      "source": [
        "Top Rated Movies:\n",
        "\n",
        "\n",
        "*   Calculate Avg Rating per movie\n",
        "*   Cal Num of ratings per movie\n",
        "\n",
        "\n",
        "*   Then apply filters like min rating and num rating.\n",
        "\n",
        "\n",
        "\n",
        "\n"
      ]
    },
    {
      "cell_type": "code",
      "execution_count": null,
      "metadata": {
        "colab": {
          "base_uri": "https://localhost:8080/"
        },
        "id": "RlOfg7Iqq8jy",
        "outputId": "b718f680-cb33-4c15-a6b8-c7811438e4aa"
      },
      "outputs": [
        {
          "name": "stdout",
          "output_type": "stream",
          "text": [
            "+---------------------------------------------------------------------------+-----------------+-----------+\n",
            "|title                                                                      |avg_rating       |num_ratings|\n",
            "+---------------------------------------------------------------------------+-----------------+-----------+\n",
            "|Shawshank Redemption, The (1994)                                           |4.429022082018927|317        |\n",
            "|Godfather, The (1972)                                                      |4.2890625        |192        |\n",
            "|Fight Club (1999)                                                          |4.272935779816514|218        |\n",
            "|Cool Hand Luke (1967)                                                      |4.271929824561403|57         |\n",
            "|Dr. Strangelove or: How I Learned to Stop Worrying and Love the Bomb (1964)|4.268041237113402|97         |\n",
            "|Rear Window (1954)                                                         |4.261904761904762|84         |\n",
            "|Godfather: Part II, The (1974)                                             |4.25968992248062 |129        |\n",
            "|Departed, The (2006)                                                       |4.252336448598131|107        |\n",
            "|Goodfellas (1990)                                                          |4.25             |126        |\n",
            "|Casablanca (1942)                                                          |4.24             |100        |\n",
            "+---------------------------------------------------------------------------+-----------------+-----------+\n",
            "\n"
          ]
        }
      ],
      "source": [
        "from os import truncate\n",
        "def top_rated(movies,ratings,min_ratings=50,top_values=10):\n",
        "  agg = ratings.groupBy(\"movieId\")\\\n",
        "  .agg(F.avg(\"rating\").alias(\"avg_rating\"),\n",
        "       F.count(\"rating\").alias(\"num_ratings\"))\n",
        "  filtered=agg.filter(F.col(\"num_ratings\")>=min_ratings)\n",
        "  joined = filtered.join(movies, on=\"movieId\",how=\"left\")\\\n",
        "      .select(\"title\",\"avg_rating\",\"num_ratings\")\\\n",
        "      .orderBy(F.desc(\"avg_rating\"),F.desc(\"num_ratings\"))\n",
        "  return joined.limit(top_values)\n",
        "\n",
        "top_movies_df=top_rated(movies,ratings)\n",
        "top_movies_df.show(truncate=False)\n"
      ]
    },
    {
      "cell_type": "markdown",
      "metadata": {
        "id": "hJFRAzLV2T_9"
      },
      "source": [
        "A sql querry that gives us the most active or mostly give his/her feedback to the movielens"
      ]
    },
    {
      "cell_type": "code",
      "execution_count": null,
      "metadata": {
        "colab": {
          "base_uri": "https://localhost:8080/"
        },
        "id": "gJmv9RfCkf4t",
        "outputId": "5ca67c2e-d939-4ea8-e28f-5f089699384f"
      },
      "outputs": [
        {
          "name": "stdout",
          "output_type": "stream",
          "text": [
            "+------+-----+\n",
            "|userId|count|\n",
            "+------+-----+\n",
            "|   414| 2698|\n",
            "|   599| 2478|\n",
            "|   474| 2108|\n",
            "|   448| 1864|\n",
            "|   274| 1346|\n",
            "|   610| 1302|\n",
            "|    68| 1260|\n",
            "|   380| 1218|\n",
            "|   606| 1115|\n",
            "|   288| 1055|\n",
            "+------+-----+\n",
            "\n"
          ]
        }
      ],
      "source": [
        "def MostActiveUsers(ratings,top_n=10):\n",
        "  return ratings.groupBy(\"userId\") \\\n",
        "      .count()\\\n",
        "      .orderBy(F.desc(\"count\"))\\\n",
        "      .limit(top_n)\n",
        "\n",
        "MostActiveUsers(ratings).show()\n"
      ]
    },
    {
      "cell_type": "markdown",
      "metadata": {
        "id": "i4tgmha06qs5"
      },
      "source": [
        "Getting most popular movies on the base of most getting ratings each movie and then order them in descending format so getting the top 10 highest entities."
      ]
    },
    {
      "cell_type": "code",
      "execution_count": null,
      "metadata": {
        "colab": {
          "base_uri": "https://localhost:8080/"
        },
        "id": "JQctEGYU2n9h",
        "outputId": "b311a8a3-72b9-49f0-84d1-94745dc2e411"
      },
      "outputs": [
        {
          "name": "stdout",
          "output_type": "stream",
          "text": [
            "+-----------------------------------------+-----+\n",
            "|title                                    |count|\n",
            "+-----------------------------------------+-----+\n",
            "|Forrest Gump (1994)                      |329  |\n",
            "|Shawshank Redemption, The (1994)         |317  |\n",
            "|Pulp Fiction (1994)                      |307  |\n",
            "|Silence of the Lambs, The (1991)         |279  |\n",
            "|Matrix, The (1999)                       |278  |\n",
            "|Star Wars: Episode IV - A New Hope (1977)|251  |\n",
            "|Jurassic Park (1993)                     |238  |\n",
            "|Braveheart (1995)                        |237  |\n",
            "|Terminator 2: Judgment Day (1991)        |224  |\n",
            "|Schindler's List (1993)                  |220  |\n",
            "+-----------------------------------------+-----+\n",
            "\n"
          ]
        }
      ],
      "source": [
        "def popular_movies(ratings,movies,top_value=10):\n",
        "  pop=ratings.groupBy(\"movieId\").count()\n",
        "  joined = pop.join(movies,\"movieId\")\\\n",
        "              .select(\"title\",\"count\")\\\n",
        "              .orderBy(F.desc(\"count\"))\n",
        "  return joined.limit(top_value)\n",
        "\n",
        "popular_movies(ratings,movies).show(truncate=False)"
      ]
    },
    {
      "cell_type": "markdown",
      "metadata": {
        "id": "GCsZXXJFzLX_"
      },
      "source": [
        "In this section we are just dividing the genres of the movies into individual one and then just count the ratings that each genres gets and display the most higly rated genres"
      ]
    },
    {
      "cell_type": "code",
      "execution_count": null,
      "metadata": {
        "colab": {
          "base_uri": "https://localhost:8080/"
        },
        "id": "uFYpTkE17Eic",
        "outputId": "aacd0aac-c17c-424c-d7f6-fbd5b27cdc9f"
      },
      "outputs": [
        {
          "name": "stdout",
          "output_type": "stream",
          "text": [
            "+---------+-----+\n",
            "|genre    |count|\n",
            "+---------+-----+\n",
            "|Drama    |41928|\n",
            "|Comedy   |39053|\n",
            "|Action   |30635|\n",
            "|Thriller |26452|\n",
            "|Adventure|24161|\n",
            "|Romance  |18124|\n",
            "|Sci-Fi   |17243|\n",
            "|Crime    |16681|\n",
            "|Fantasy  |11834|\n",
            "|Children |9208 |\n",
            "+---------+-----+\n",
            "\n"
          ]
        }
      ],
      "source": [
        "def popular_genres(ratings, movies, top_n=10):\n",
        "    movies_with_genre = movies.withColumn(\"genre\", F.explode(F.split(F.col(\"genres\"), \"\\\\|\")))\n",
        "    ratings_with_genre = ratings.join(movies_with_genre.select(\"movieId\",\"genre\"), \"movieId\")\n",
        "    return ratings_with_genre.groupBy(\"genre\").count().orderBy(F.desc(\"count\")).limit(top_n)\n",
        "\n",
        "popular_genres(ratings, movies).show(truncate=False)\n"
      ]
    },
    {
      "cell_type": "code",
      "execution_count": null,
      "metadata": {
        "colab": {
          "base_uri": "https://localhost:8080/"
        },
        "id": "0FyxNN9_P-ji",
        "outputId": "5ab2f233-3ac2-4803-a249-88134d835172"
      },
      "outputs": [
        {
          "name": "stdout",
          "output_type": "stream",
          "text": [
            "+----------+-----+\n",
            "|year_month|count|\n",
            "+----------+-----+\n",
            "|1996-03   |58   |\n",
            "|1996-04   |165  |\n",
            "|1996-05   |832  |\n",
            "|1996-06   |883  |\n",
            "|1996-07   |489  |\n",
            "|1996-08   |1010 |\n",
            "|1996-09   |384  |\n",
            "|1996-10   |935  |\n",
            "|1996-11   |978  |\n",
            "|1996-12   |306  |\n",
            "+----------+-----+\n",
            "only showing top 10 rows\n",
            "\n"
          ]
        }
      ],
      "source": [
        "def time_series_analysis(ratings):\n",
        "    return ratings.withColumn(\"year_month\", F.date_format(\"timestamp\", \"yyyy-MM\")) \\\n",
        "                  .groupBy(\"year_month\").count().orderBy(\"year_month\")\n",
        "\n",
        "time_series_analysis(ratings).show(10, truncate=False)\n"
      ]
    }
  ],
  "metadata": {
    "colab": {
      "provenance": []
    },
    "kernelspec": {
      "display_name": "Python 3",
      "name": "python3"
    },
    "language_info": {
      "codemirror_mode": {
        "name": "ipython",
        "version": 3
      },
      "file_extension": ".py",
      "mimetype": "text/x-python",
      "name": "python",
      "nbconvert_exporter": "python",
      "pygments_lexer": "ipython3",
      "version": "3.12.10"
    }
  },
  "nbformat": 4,
  "nbformat_minor": 0
}
